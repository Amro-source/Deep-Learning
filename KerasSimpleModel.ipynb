{
  "nbformat": 4,
  "nbformat_minor": 0,
  "metadata": {
    "colab": {
      "name": "KerasSimpleModel.ipynb",
      "provenance": [],
      "collapsed_sections": [],
      "authorship_tag": "ABX9TyMhECiVX36a6aaJl+oDDquC",
      "include_colab_link": true
    },
    "kernelspec": {
      "name": "python3",
      "display_name": "Python 3"
    }
  },
  "cells": [
    {
      "cell_type": "markdown",
      "metadata": {
        "id": "view-in-github",
        "colab_type": "text"
      },
      "source": [
        "<a href=\"https://colab.research.google.com/github/Amro-source/Deep-Learning/blob/main/KerasSimpleModel.ipynb\" target=\"_parent\"><img src=\"https://colab.research.google.com/assets/colab-badge.svg\" alt=\"Open In Colab\"/></a>"
      ]
    },
    {
      "cell_type": "code",
      "metadata": {
        "id": "mRQEU3lqAFC2",
        "colab": {
          "base_uri": "https://localhost:8080/",
          "height": 146
        },
        "outputId": "ca8ca326-a7ca-492f-c539-65f714199bd6"
      },
      "source": [
        "import tensorflow.compat.v2 as tf\n",
        "import tensorflow_datasets as tfds\n",
        "\n",
        "tfds.disable_progress_bar()\n",
        "tf.enable_v2_behavior()\n",
        "(ds_train, ds_test), ds_info = tfds.load(\n",
        "    'mnist',\n",
        "    split=['train', 'test'],\n",
        "    shuffle_files=True,\n",
        "    as_supervised=True,\n",
        "    with_info=True,\n",
        ")\n",
        "\n"
      ],
      "execution_count": null,
      "outputs": [
        {
          "output_type": "stream",
          "text": [
            "WARNING:absl:Dataset mnist is hosted on GCS. It will automatically be downloaded to your\n",
            "local data directory. If you'd instead prefer to read directly from our public\n",
            "GCS bucket (recommended if you're running on GCP), you can instead set\n",
            "data_dir=gs://tfds-data/datasets.\n",
            "\n"
          ],
          "name": "stderr"
        },
        {
          "output_type": "stream",
          "text": [
            "\u001b[1mDownloading and preparing dataset mnist/3.0.0 (download: 11.06 MiB, generated: Unknown size, total: 11.06 MiB) to /root/tensorflow_datasets/mnist/3.0.0...\u001b[0m\n",
            "\u001b[1mDataset mnist downloaded and prepared to /root/tensorflow_datasets/mnist/3.0.0. Subsequent calls will reuse this data.\u001b[0m\n"
          ],
          "name": "stdout"
        }
      ]
    },
    {
      "cell_type": "code",
      "metadata": {
        "id": "PYjIYO8KCPd2"
      },
      "source": [
        "def normalize_img(image, label):\n",
        "  \"\"\"Normalizes images: `uint8` -> `float32`.\"\"\"\n",
        "  return tf.cast(image, tf.float32) / 255., label\n",
        "\n",
        "ds_train = ds_train.map(\n",
        "    normalize_img, num_parallel_calls=tf.data.experimental.AUTOTUNE)\n",
        "ds_train = ds_train.cache()\n",
        "ds_train = ds_train.shuffle(ds_info.splits['train'].num_examples)\n",
        "ds_train = ds_train.batch(128)\n",
        "ds_train = ds_train.prefetch(tf.data.experimental.AUTOTUNE)\n"
      ],
      "execution_count": null,
      "outputs": []
    },
    {
      "cell_type": "code",
      "metadata": {
        "id": "rUb4AWxsCagX"
      },
      "source": [
        "ds_test = ds_test.map(\n",
        "    normalize_img, num_parallel_calls=tf.data.experimental.AUTOTUNE)\n",
        "ds_test = ds_test.batch(128)\n",
        "ds_test = ds_test.cache()\n",
        "ds_test = ds_test.prefetch(tf.data.experimental.AUTOTUNE)\n"
      ],
      "execution_count": null,
      "outputs": []
    },
    {
      "cell_type": "code",
      "metadata": {
        "id": "54HBURWCCctj",
        "colab": {
          "base_uri": "https://localhost:8080/",
          "height": 256
        },
        "outputId": "dfa8a758-09f1-423f-cf31-a5cc4c28fc7d"
      },
      "source": [
        "model = tf.keras.models.Sequential([\n",
        "  tf.keras.layers.Flatten(input_shape=(28, 28, 1)),\n",
        "  tf.keras.layers.Dense(128,activation='relu'),\n",
        "  tf.keras.layers.Dense(10, activation='softmax')\n",
        "])\n",
        "model.compile(\n",
        "    loss='sparse_categorical_crossentropy',\n",
        "    optimizer=tf.keras.optimizers.Adam(0.001),\n",
        "    metrics=['accuracy'],\n",
        ")\n",
        "\n",
        "model.fit(\n",
        "    ds_train,\n",
        "    epochs=6,\n",
        "    validation_data=ds_test,\n",
        ")\n"
      ],
      "execution_count": null,
      "outputs": [
        {
          "output_type": "stream",
          "text": [
            "Epoch 1/6\n",
            "469/469 [==============================] - 4s 8ms/step - loss: 0.3554 - accuracy: 0.9029 - val_loss: 0.2072 - val_accuracy: 0.9387\n",
            "Epoch 2/6\n",
            "469/469 [==============================] - 2s 3ms/step - loss: 0.1646 - accuracy: 0.9523 - val_loss: 0.1365 - val_accuracy: 0.9601\n",
            "Epoch 3/6\n",
            "469/469 [==============================] - 2s 4ms/step - loss: 0.1202 - accuracy: 0.9658 - val_loss: 0.1193 - val_accuracy: 0.9647\n",
            "Epoch 4/6\n",
            "469/469 [==============================] - 2s 3ms/step - loss: 0.0961 - accuracy: 0.9727 - val_loss: 0.0968 - val_accuracy: 0.9715\n",
            "Epoch 5/6\n",
            "469/469 [==============================] - 2s 3ms/step - loss: 0.0779 - accuracy: 0.9779 - val_loss: 0.0878 - val_accuracy: 0.9737\n",
            "Epoch 6/6\n",
            "469/469 [==============================] - 2s 3ms/step - loss: 0.0655 - accuracy: 0.9810 - val_loss: 0.0949 - val_accuracy: 0.9713\n"
          ],
          "name": "stdout"
        },
        {
          "output_type": "execute_result",
          "data": {
            "text/plain": [
              "<tensorflow.python.keras.callbacks.History at 0x7fad8a4766a0>"
            ]
          },
          "metadata": {
            "tags": []
          },
          "execution_count": 5
        }
      ]
    },
    {
      "cell_type": "code",
      "metadata": {
        "id": "66agga-POuLL"
      },
      "source": [
        ""
      ],
      "execution_count": null,
      "outputs": []
    },
    {
      "cell_type": "code",
      "metadata": {
        "id": "uVLJW3SyOvHC",
        "colab": {
          "base_uri": "https://localhost:8080/",
          "height": 256
        },
        "outputId": "dfa8a758-09f1-423f-cf31-a5cc4c28fc7d"
      },
      "source": [
        "model = tf.keras.models.Sequential([\n",
        "  tf.keras.layers.Flatten(input_shape=(28, 28, 1)),\n",
        "  tf.keras.layers.Dense(128,activation='relu'),\n",
        "  \n",
        "  tf.keras.layers.Dense(10, activation='softmax')\n",
        "])\n",
        "model.compile(\n",
        "    loss='sparse_categorical_crossentropy',\n",
        "    optimizer=tf.keras.optimizers.Adam(0.001),\n",
        "    metrics=['accuracy'],\n",
        ")\n",
        "\n",
        "model.fit(\n",
        "    ds_train,\n",
        "    epochs=6,\n",
        "    validation_data=ds_test,\n",
        ")\n"
      ],
      "execution_count": null,
      "outputs": [
        {
          "output_type": "stream",
          "text": [
            "Epoch 1/6\n",
            "469/469 [==============================] - 4s 8ms/step - loss: 0.3554 - accuracy: 0.9029 - val_loss: 0.2072 - val_accuracy: 0.9387\n",
            "Epoch 2/6\n",
            "469/469 [==============================] - 2s 3ms/step - loss: 0.1646 - accuracy: 0.9523 - val_loss: 0.1365 - val_accuracy: 0.9601\n",
            "Epoch 3/6\n",
            "469/469 [==============================] - 2s 4ms/step - loss: 0.1202 - accuracy: 0.9658 - val_loss: 0.1193 - val_accuracy: 0.9647\n",
            "Epoch 4/6\n",
            "469/469 [==============================] - 2s 3ms/step - loss: 0.0961 - accuracy: 0.9727 - val_loss: 0.0968 - val_accuracy: 0.9715\n",
            "Epoch 5/6\n",
            "469/469 [==============================] - 2s 3ms/step - loss: 0.0779 - accuracy: 0.9779 - val_loss: 0.0878 - val_accuracy: 0.9737\n",
            "Epoch 6/6\n",
            "469/469 [==============================] - 2s 3ms/step - loss: 0.0655 - accuracy: 0.9810 - val_loss: 0.0949 - val_accuracy: 0.9713\n"
          ],
          "name": "stdout"
        },
        {
          "output_type": "execute_result",
          "data": {
            "text/plain": [
              "<tensorflow.python.keras.callbacks.History at 0x7fad8a4766a0>"
            ]
          },
          "metadata": {
            "tags": []
          },
          "execution_count": 5
        }
      ]
    },
    {
      "cell_type": "code",
      "metadata": {
        "id": "VIRILzUcO0ee",
        "colab": {
          "base_uri": "https://localhost:8080/",
          "height": 256
        },
        "outputId": "e99c5e3a-75d4-4317-d961-7ede762f3dc0"
      },
      "source": [
        "model = tf.keras.models.Sequential([\n",
        "  tf.keras.layers.Flatten(input_shape=(28, 28, 1)),\n",
        "  tf.keras.layers.Dense(128,activation='relu'),\n",
        "  tf.keras.layers.Dense(64,activation='relu'),\n",
        "  tf.keras.layers.Dense(10, activation='softmax')\n",
        "])\n",
        "model.compile(\n",
        "    loss='sparse_categorical_crossentropy',\n",
        "    optimizer=tf.keras.optimizers.Adam(0.001),\n",
        "    metrics=['accuracy'],\n",
        ")\n",
        "\n",
        "model.fit(\n",
        "    ds_train,\n",
        "    epochs=6,\n",
        "    validation_data=ds_test,\n",
        ")\n"
      ],
      "execution_count": null,
      "outputs": [
        {
          "output_type": "stream",
          "text": [
            "Epoch 1/6\n",
            "469/469 [==============================] - 2s 4ms/step - loss: 0.3338 - accuracy: 0.9072 - val_loss: 0.1754 - val_accuracy: 0.9461\n",
            "Epoch 2/6\n",
            "469/469 [==============================] - 2s 4ms/step - loss: 0.1295 - accuracy: 0.9620 - val_loss: 0.1105 - val_accuracy: 0.9661\n",
            "Epoch 3/6\n",
            "469/469 [==============================] - 2s 4ms/step - loss: 0.0912 - accuracy: 0.9722 - val_loss: 0.0899 - val_accuracy: 0.9710\n",
            "Epoch 4/6\n",
            "469/469 [==============================] - 2s 4ms/step - loss: 0.0691 - accuracy: 0.9788 - val_loss: 0.0845 - val_accuracy: 0.9733\n",
            "Epoch 5/6\n",
            "469/469 [==============================] - 2s 4ms/step - loss: 0.0544 - accuracy: 0.9834 - val_loss: 0.0789 - val_accuracy: 0.9761\n",
            "Epoch 6/6\n",
            "469/469 [==============================] - 2s 4ms/step - loss: 0.0441 - accuracy: 0.9864 - val_loss: 0.0860 - val_accuracy: 0.9749\n"
          ],
          "name": "stdout"
        },
        {
          "output_type": "execute_result",
          "data": {
            "text/plain": [
              "<tensorflow.python.keras.callbacks.History at 0x7fad8999fdd8>"
            ]
          },
          "metadata": {
            "tags": []
          },
          "execution_count": 7
        }
      ]
    },
    {
      "cell_type": "code",
      "metadata": {
        "id": "zcl_wAZSPrYO"
      },
      "source": [
        ""
      ],
      "execution_count": null,
      "outputs": []
    },
    {
      "cell_type": "code",
      "metadata": {
        "id": "Oe2PVFPhw2Ck",
        "colab": {
          "base_uri": "https://localhost:8080/",
          "height": 72
        },
        "outputId": "0825fb1e-0ebd-4f39-e7c2-bb42acc9aaa9"
      },
      "source": [
        "print(\"Size of:\")\n",
        "print(\"- Training-set:\\t\\t{}\".format(ds_train))\n",
        "#print(\"- Validation-set:\\t{}\".format(data.num_val))\n",
        "print(\"- Test-set:\\t\\t{}\".format(ds_test))"
      ],
      "execution_count": null,
      "outputs": [
        {
          "output_type": "stream",
          "text": [
            "Size of:\n",
            "- Training-set:\t\t<DatasetV1Adapter shapes: ((None, 28, 28, 1), (None,)), types: (tf.float32, tf.int64)>\n",
            "- Test-set:\t\t<DatasetV1Adapter shapes: ((None, 28, 28, 1), (None,)), types: (tf.float32, tf.int64)>\n"
          ],
          "name": "stdout"
        }
      ]
    }
  ]
}