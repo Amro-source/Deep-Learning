{
  "nbformat": 4,
  "nbformat_minor": 0,
  "metadata": {
    "colab": {
      "name": "RNN.ipynb",
      "provenance": [],
      "collapsed_sections": [],
      "authorship_tag": "ABX9TyOb2RQYC91/da4DqG7+pFEB",
      "include_colab_link": true
    },
    "kernelspec": {
      "name": "python3",
      "display_name": "Python 3"
    }
  },
  "cells": [
    {
      "cell_type": "markdown",
      "metadata": {
        "id": "view-in-github",
        "colab_type": "text"
      },
      "source": [
        "<a href=\"https://colab.research.google.com/github/Amro-source/Deep-Learning/blob/main/RNN.ipynb\" target=\"_parent\"><img src=\"https://colab.research.google.com/assets/colab-badge.svg\" alt=\"Open In Colab\"/></a>"
      ]
    },
    {
      "cell_type": "code",
      "metadata": {
        "id": "t1F-2PFDU3Od",
        "colab": {
          "base_uri": "https://localhost:8080/",
          "height": 935
        },
        "outputId": "ee067151-a7b4-431c-9c7f-b74a2ca51125"
      },
      "source": [
        "import tensorflow as tf\n",
        "from __future__ import print_function\n",
        "import keras\n",
        "from keras.datasets import cifar10\n",
        "from keras.preprocessing.image import ImageDataGenerator\n",
        "from keras.models import Sequential\n",
        "from keras.layers import Dense, Dropout, Activation, Flatten\n",
        "from keras.layers import Conv2D, MaxPooling2D\n",
        "import os\n",
        "\n",
        "import numpy as np\n",
        "inputs = np.random.random([32, 10, 8]).astype(np.float32)\n",
        "simple_rnn = tf.keras.layers.SimpleRNN(4)\n",
        "\n",
        "output = simple_rnn(inputs)  # The output has shape `[32, 4]`.\n",
        "\n",
        "simple_rnn = tf.keras.layers.SimpleRNN(\n",
        "    4, return_sequences=True, return_state=True)\n",
        "\n",
        "# whole_sequence_output has shape `[32, 10, 4]`.\n",
        "# final_state has shape `[32, 4]`.\n",
        "whole_sequence_output, final_state = simple_rnn(inputs)\n",
        "\n",
        "print(whole_sequence_output)"
      ],
      "execution_count": null,
      "outputs": [
        {
          "output_type": "stream",
          "text": [
            "tf.Tensor(\n",
            "[[[ 0.6404225   0.66381353 -0.5041805  -0.13479932]\n",
            "  [ 0.80451894  0.92997944 -0.22366226  0.24602202]\n",
            "  [ 0.70083916  0.80030423  0.257878    0.4955176 ]\n",
            "  ...\n",
            "  [ 0.7989727   0.5873224  -0.1922789   0.868433  ]\n",
            "  [-0.20773365  0.6686707   0.3122413   0.60449076]\n",
            "  [ 0.73104525  0.557777   -0.24597466  0.09658748]]\n",
            "\n",
            " [[ 0.8088897   0.80314815 -0.77876705 -0.05439016]\n",
            "  [ 0.8098863   0.92737126 -0.20820981  0.7254595 ]\n",
            "  [ 0.8581737   0.85250425  0.42953563  0.59679306]\n",
            "  ...\n",
            "  [ 0.80008096  0.51718414 -0.11666033  0.75555336]\n",
            "  [ 0.17621914  0.56956446  0.1906293   0.81155044]\n",
            "  [ 0.54444474  0.55021274  0.11160046  0.58079684]]\n",
            "\n",
            " [[ 0.8802704   0.74046373 -0.74067795  0.3466011 ]\n",
            "  [ 0.78197575  0.97038764  0.02767166  0.2059795 ]\n",
            "  [ 0.88000387  0.812048   -0.486695    0.7932504 ]\n",
            "  ...\n",
            "  [ 0.70640516  0.74429363  0.24881773  0.4990872 ]\n",
            "  [ 0.8058702   0.6358522   0.10806591  0.8286148 ]\n",
            "  [ 0.8456392   0.7882714  -0.5225796   0.9059062 ]]\n",
            "\n",
            " ...\n",
            "\n",
            " [[ 0.6646085   0.4834346  -0.67500246  0.54445934]\n",
            "  [ 0.5832407   0.856658    0.03758227  0.79230005]\n",
            "  [ 0.22793359  0.4857925   0.32300198  0.83019936]\n",
            "  ...\n",
            "  [ 0.79720366  0.78712296  0.04833808  0.69322187]\n",
            "  [ 0.8887343   0.818418   -0.06449127  0.83729786]\n",
            "  [ 0.6798747   0.89745355  0.18221006  0.67515826]]\n",
            "\n",
            " [[ 0.87385416  0.6373887  -0.86325914  0.22914724]\n",
            "  [ 0.6228381   0.94148934 -0.13938923  0.09667763]\n",
            "  [ 0.91375464  0.8526009   0.21156704  0.74902344]\n",
            "  ...\n",
            "  [ 0.65637434  0.5870617   0.61440045  0.18636954]\n",
            "  [ 0.7839666   0.56648105  0.11709207  0.69155186]\n",
            "  [ 0.47418293  0.82304657  0.13775504  0.60959315]]\n",
            "\n",
            " [[ 0.9304966   0.70834196 -0.8225224   0.17144912]\n",
            "  [ 0.33935517  0.9724813   0.12803291  0.26030025]\n",
            "  [ 0.59675187  0.7846291  -0.07090641  0.28328702]\n",
            "  ...\n",
            "  [ 0.29204422  0.8057523  -0.12347171  0.72032213]\n",
            "  [ 0.48460025  0.5074961   0.6019714   0.15872693]\n",
            "  [ 0.9613139   0.69379854 -0.48696938  0.796916  ]]], shape=(32, 10, 4), dtype=float32)\n"
          ],
          "name": "stdout"
        }
      ]
    }
  ]
}